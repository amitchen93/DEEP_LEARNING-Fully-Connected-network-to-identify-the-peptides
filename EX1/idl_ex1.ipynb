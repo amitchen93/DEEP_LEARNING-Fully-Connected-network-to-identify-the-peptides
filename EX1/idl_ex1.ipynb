{
  "nbformat": 4,
  "nbformat_minor": 0,
  "metadata": {
    "colab": {
      "name": "idl-ex1.ipynb",
      "provenance": [],
      "collapsed_sections": []
    },
    "kernelspec": {
      "name": "python3",
      "display_name": "Python 3"
    }
  },
  "cells": [
    {
      "cell_type": "code",
      "metadata": {
        "id": "nBS6MagJ1w2-"
      },
      "source": [
        "import tensorflow as tf\n",
        "\n",
        "from tensorflow.keras.layers import Dense, LeakyReLU, Dropout, GaussianNoise\n",
        "from tensorflow.keras import Model\n",
        "import numpy as np\n",
        "import pandas as pd\n",
        "import matplotlib.pyplot as plt\n",
        "aminos = {'K': 0, 'V': 1, 'W': 2, 'Q': 3, 'H': 4, 'G': 5, 'P': 6, 'M': 7, 'S': 8, 'F': 9, 'A': 10, 'T': 11, 'R': 12, 'E': 13, 'N': 14, 'L': 15, 'C': 16, 'I': 17, 'Y': 18, 'D': 19}\n"
      ],
      "execution_count": null,
      "outputs": []
    },
    {
      "cell_type": "code",
      "metadata": {
        "id": "yZpJakZB3whH"
      },
      "source": [
        "with open('/content/neg_A0201.txt') as f:\n",
        "    neg = np.array([x.upper() for x in f.read().splitlines()])\n",
        "\n",
        "with open('/content/pos_A0201.txt') as f:\n",
        "    pos = np.array([x.upper() for x in f.read().splitlines()])\n",
        "\n",
        "neg_labels = np.zeros(neg.shape,dtype=np.uint8)\n",
        "pos_labels = np.ones(pos.shape,dtype=np.uint8)\n",
        "\n",
        "idx_train_neg = np.random.choice(neg_labels.shape[0],size=int(0.9*neg_labels.shape[0]),replace=False)\n",
        "neg_train_labels = neg_labels[idx_train_neg]\n",
        "neg_train_data = neg[idx_train_neg]\n",
        "\n",
        "idx_test_neg = ~np.isin(np.arange(neg_labels.shape[0]),idx_train_neg)\n",
        "neg_test_labels= neg_labels[idx_test_neg]\n",
        "neg_test_data = neg[idx_test_neg]\n",
        "\n",
        "\n",
        "idx_train_pos = np.random.choice(pos_labels.shape[0],size=int(0.9*pos_labels.shape[0]),replace=False)\n",
        "pos_train_labels = pos_labels[idx_train_pos]\n",
        "pos_train_data = pos[idx_train_pos]\n",
        "\n",
        "idx_test_pos = ~np.isin(np.arange(pos_labels.shape[0]),idx_train_pos)\n",
        "pos_test_labels= pos_labels[idx_test_pos]\n",
        "pos_test_data = pos[idx_test_pos]\n",
        "\n",
        "train_labels = np.concatenate([pos_train_labels, neg_train_labels])\n",
        "test_labels = np.concatenate([pos_test_labels, neg_test_labels])\n",
        "train_data = np.concatenate([pos_train_data, neg_train_data])\n",
        "test_data = np.concatenate([pos_test_data, neg_test_data])\n",
        "\n",
        "\n",
        "\n",
        "idx_perm_test = np.arange(test_labels.shape[0])\n",
        "idx_perm_train = np.arange(train_labels.shape[0])\n",
        "\n",
        "np.random.shuffle(idx_perm_test)\n",
        "np.random.shuffle(idx_perm_train)\n",
        "\n",
        "x_train_data = train_data[idx_perm_train][:, None]\n",
        "x_test_data = test_data[idx_perm_test][:, None]\n",
        "y_train = train_labels[idx_perm_train]\n",
        "y_test = test_labels[idx_perm_test]\n",
        "\n"
      ],
      "execution_count": null,
      "outputs": []
    },
    {
      "cell_type": "markdown",
      "metadata": {
        "id": "k64uZmYWfJhk"
      },
      "source": [
        "# New Section"
      ]
    },
    {
      "cell_type": "code",
      "metadata": {
        "id": "oKw2_u1KRvAa"
      },
      "source": [
        "def amino2vec(s):\n",
        "    s = s[0]\n",
        "    vec = np.zeros((20, 9))\n",
        "    for i, c in enumerate(s):\n",
        "        vec[aminos[c], i] = 1\n",
        "    return vec.flatten()\n",
        "\n",
        "x_train = np.zeros((x_train_data.shape[0], 20 * 9))\n",
        "x_train = np.apply_along_axis(amino2vec, 1, x_train_data)\n",
        "\n",
        "x_test = np.zeros((x_test_data.shape[0], 20 * 9))\n",
        "x_test = np.apply_along_axis(amino2vec, 1, x_test_data)\n"
      ],
      "execution_count": null,
      "outputs": []
    },
    {
      "cell_type": "code",
      "metadata": {
        "id": "JcJPdn3Q-QE5"
      },
      "source": [
        "\n",
        "# def amino2vec(s):\n",
        "#     s = s[0]\n",
        "#     aminos = {'K': 0, 'V': 1, 'W': 2, 'Q': 3, 'H': 4, 'G': 5, 'P': 6, 'M': 7, 'S': 8, 'F': 9, 'A': 10, 'T': 11, 'R': 12, 'E': 13, 'N': 14, 'L': 15, 'C': 16, 'I': 17, 'Y': 18, 'D': 19}\n",
        "#     v = np.zeros(9)\n",
        "#     for i, c in enumerate(s):\n",
        "#         v[i] = aminos[c]\n",
        "#     return v\n",
        "\n",
        "# x = np.zeros((data.shape[0], 9))\n",
        "# x = np.apply_along_axis(amino2vec, 1, data)\n",
        "# print(x)"
      ],
      "execution_count": null,
      "outputs": []
    },
    {
      "cell_type": "code",
      "metadata": {
        "id": "nTyoaws-s6Vp",
        "colab": {
          "base_uri": "https://localhost:8080/",
          "height": 682
        },
        "outputId": "a6c825fe-a3ed-42e2-9358-86d13271a645"
      },
      "source": [
        "train_ds = tf.data.Dataset.from_tensor_slices((x_train, y_train)).shuffle(10000).batch(16)\n",
        "\n",
        "test_ds = tf.data.Dataset.from_tensor_slices((x_test, y_test)).batch(16)\n",
        "\n",
        "class MyModel(Model):\n",
        "  def __init__(self):\n",
        "    super(MyModel, self).__init__()\n",
        "    self.d0 = Dense(512)\n",
        "    self.l0 = LeakyReLU()\n",
        "    self.d1 = Dense(128)\n",
        "    self.l1 = LeakyReLU()\n",
        "    self.d6 = Dense(2, activation='softmax')\n",
        "\n",
        "  def call(self, x):\n",
        "    x = self.d0(x)\n",
        "    x = self.l0(x)\n",
        "    x = self.d1(x)\n",
        "    x = self.l1(x)\n",
        "    return self.d6(x)\n",
        "\n",
        "\n",
        "# Create an instance of the model\n",
        "model = MyModel()\n",
        "\n",
        "loss_object = tf.keras.losses.SparseCategoricalCrossentropy(from_logits=True,reduction=tf.keras.losses.Reduction.SUM)\n",
        "\n",
        "optimizer = tf.keras.optimizers.Adam(learning_rate=0.0008)\n",
        "\n",
        "\n",
        "train_loss = tf.keras.metrics.Mean(name='train_loss')\n",
        "train_accuracy = tf.keras.metrics.SparseCategoricalAccuracy(name='train_accuracy')\n",
        "\n",
        "test_loss = tf.keras.metrics.Mean(name='test_loss')\n",
        "test_accuracy = tf.keras.metrics.SparseCategoricalAccuracy(name='test_accuracy')\n",
        "\n",
        "@tf.function\n",
        "def train_step(vectors, labels):\n",
        "  with tf.GradientTape() as tape:\n",
        "    # training=True is only needed if there are layers with different\n",
        "    # behavior during training versus inference (e.g. Dropout).\n",
        "    predictions = model(vectors, training=True)\n",
        "    loss = loss_object(labels, predictions)\n",
        "  gradients = tape.gradient(loss, model.trainable_variables)\n",
        "  optimizer.apply_gradients(zip(gradients, model.trainable_variables))\n",
        "\n",
        "  train_loss(loss)\n",
        "  train_accuracy(labels, predictions)\n",
        "\n",
        "@tf.function\n",
        "def test_step(vectors, labels):\n",
        "  # training=False is only needed if there are layers with different\n",
        "  # behavior during training versus inference (e.g. Dropout).\n",
        "  predictions = model(vectors, training=False)\n",
        "  t_loss = loss_object(labels, predictions)\n",
        "\n",
        "  test_loss(t_loss)\n",
        "  test_accuracy(labels, predictions)\n",
        "\n",
        "EPOCHS = 17\n",
        "\n",
        "loss = np.zeros((2, EPOCHS))\n",
        "for epoch in range(EPOCHS):\n",
        "  # Reset the metrics at the start of the next epoch\n",
        "  train_loss.reset_states()\n",
        "  train_accuracy.reset_states()\n",
        "  test_loss.reset_states()\n",
        "  test_accuracy.reset_states()\n",
        "\n",
        "  for images, labels in train_ds:\n",
        "    train_step(images, labels)\n",
        "\n",
        "  for test_images, test_labels in test_ds:\n",
        "    test_step(test_images, test_labels)\n",
        "\n",
        "  print(\n",
        "    f'Epoch {epoch + 1}, '\n",
        "    f'Loss: {train_loss.result()}, '\n",
        "    f'Accuracy: {train_accuracy.result() * 100}, '\n",
        "    f'Test Loss: {test_loss.result()}, '\n",
        "    f'Test Accuracy: {test_accuracy.result() * 100}'\n",
        "  )\n",
        "\n",
        "  loss[0, epoch] = train_loss.result()\n",
        "  loss[1, epoch] = test_loss.result()\n",
        "\n",
        "plt.plot(loss[0], label='train loss')\n",
        "plt.plot(loss[1], label='test loss')\n",
        "plt.legend()\n",
        "plt.show()\n"
      ],
      "execution_count": null,
      "outputs": [
        {
          "output_type": "stream",
          "text": [
            "WARNING:tensorflow:Layer my_model_21 is casting an input tensor from dtype float64 to the layer's dtype of float32, which is new behavior in TensorFlow 2.  The layer has dtype float32 because its dtype defaults to floatx.\n",
            "\n",
            "If you intended to run this layer in float32, you can safely ignore this warning. If in doubt, this warning is likely only an issue if you are porting a TensorFlow 1.X model to TensorFlow 2.\n",
            "\n",
            "To change all layers to have dtype float64 by default, call `tf.keras.backend.set_floatx('float64')`. To change just this layer, pass dtype='float64' to the layer constructor. If you are the author of this layer, you can disable autocasting by passing autocast=False to the base Layer constructor.\n",
            "\n",
            "Epoch 1, Loss: 6.460933208465576, Accuracy: 90.5672607421875, Test Loss: 6.255784034729004, Test Accuracy: 91.81818389892578\n",
            "Epoch 2, Loss: 6.144575595855713, Accuracy: 92.50394439697266, Test Loss: 6.163145065307617, Test Accuracy: 92.36363983154297\n",
            "Epoch 3, Loss: 6.069397926330566, Accuracy: 93.0538101196289, Test Loss: 6.161314010620117, Test Accuracy: 92.29090881347656\n",
            "Epoch 4, Loss: 6.012241840362549, Accuracy: 93.51069641113281, Test Loss: 6.137423515319824, Test Accuracy: 92.43636322021484\n",
            "Epoch 5, Loss: 5.950333595275879, Accuracy: 93.95140075683594, Test Loss: 6.08634614944458, Test Accuracy: 92.9818115234375\n",
            "Epoch 6, Loss: 5.904951095581055, Accuracy: 94.25059509277344, Test Loss: 6.162580490112305, Test Accuracy: 92.50909423828125\n",
            "Epoch 7, Loss: 5.860654354095459, Accuracy: 94.5942611694336, Test Loss: 6.140800952911377, Test Accuracy: 92.69091033935547\n",
            "Epoch 8, Loss: 5.812088966369629, Accuracy: 94.90155029296875, Test Loss: 6.09382963180542, Test Accuracy: 93.12727355957031\n",
            "Epoch 9, Loss: 5.807271480560303, Accuracy: 94.90559387207031, Test Loss: 6.100818634033203, Test Accuracy: 93.0545425415039\n",
            "Epoch 10, Loss: 5.76182746887207, Accuracy: 95.16030883789062, Test Loss: 6.113455295562744, Test Accuracy: 92.79999542236328\n",
            "Epoch 11, Loss: 5.7133636474609375, Accuracy: 95.55654907226562, Test Loss: 6.08729887008667, Test Accuracy: 93.0545425415039\n",
            "Epoch 12, Loss: 5.680655002593994, Accuracy: 95.73040008544922, Test Loss: 6.111841201782227, Test Accuracy: 93.0545425415039\n",
            "Epoch 13, Loss: 5.674962043762207, Accuracy: 95.77082824707031, Test Loss: 6.129603862762451, Test Accuracy: 92.79999542236328\n",
            "Epoch 14, Loss: 5.657895088195801, Accuracy: 95.92851257324219, Test Loss: 6.151692867279053, Test Accuracy: 92.654541015625\n",
            "Epoch 15, Loss: 5.641071796417236, Accuracy: 96.0215072631836, Test Loss: 6.198483467102051, Test Accuracy: 92.4000015258789\n",
            "Epoch 16, Loss: 5.637650966644287, Accuracy: 95.9891586303711, Test Loss: 6.110668182373047, Test Accuracy: 92.9818115234375\n",
            "Epoch 17, Loss: 5.612131595611572, Accuracy: 96.21154022216797, Test Loss: 6.065823078155518, Test Accuracy: 93.23636627197266\n"
          ],
          "name": "stdout"
        },
        {
          "output_type": "display_data",
          "data": {
            "image/png": "[encoded data removed]",
            "text/plain": [
              "<Figure size 432x288 with 1 Axes>"
            ]
          },
          "metadata": {
            "tags": [],
            "needs_background": "light"
          }
        }
      ]
    },
    {
      "cell_type": "code",
      "metadata": {
        "id": "v_0UpdPLwgkO",
        "colab": {
          "base_uri": "https://localhost:8080/"
        },
        "outputId": "a261f352-7f8a-4a77-87b4-caf0dc6f8817"
      },
      "source": [
        "from itertools import groupby\n",
        "\n",
        "def fastaread(fasta_name):\n",
        "    f = open(fasta_name)\n",
        "    faiter = (x[1] for x in groupby(f, lambda line: line.startswith(\">\")))\n",
        "    for header in faiter:\n",
        "        header = next(header)[1:].strip()\n",
        "        seq = \"\".join(s.strip() for s in next(faiter))\n",
        "        yield header, seq\n",
        "\n",
        "sequence = [line for line in fastaread('/content/P0DTC2.fasta')][0][1]\n",
        "print(len(sequence))\n",
        "sequences = np.array([sequence[i: i + 9] for i in range(len(sequence) - 9)])[:, None]\n",
        "vecs = np.apply_along_axis(amino2vec, 1, sequences)\n",
        "seq_prediction = model(vecs, training=False)\n",
        "print(np.count_nonzero(seq_prediction == 1))\n",
        "print(np.count_nonzero(seq_prediction == 1)/len(sequence))"
      ],
      "execution_count": null,
      "outputs": [
        {
          "output_type": "stream",
          "text": [
            "1273\n",
            "1210\n",
            "0.950510604870385\n"
          ],
          "name": "stdout"
        }
      ]
    }
  ]
}